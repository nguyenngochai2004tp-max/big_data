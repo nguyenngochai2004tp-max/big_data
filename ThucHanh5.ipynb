{
 "cells": [
  {
   "cell_type": "markdown",
   "metadata": {},
   "source": [
    "# Bài thực hành 5 - Phân tích dữ liệu"
   ]
  },
  {
   "cell_type": "code",
   "execution_count": null,
   "metadata": {},
   "outputs": [],
   "source": [
    "import pandas as pd\n",
    "import matplotlib.pyplot as plt\n",
    "import numpy as np\n",
    "from itertools import combinations"
   ]
  },
  {
   "cell_type": "code",
   "execution_count": null,
   "metadata": {},
   "outputs": [],
   "source": [
    "# Tải dữ liệu từ các tệp CSV\n",
    "customers_df = pd.read_csv('Customers.csv')\n",
    "order_details_df = pd.read_csv('Order-details.csv')\n",
    "orders_df = pd.read_csv('Orders.csv')\n",
    "products_df = pd.read_csv('Products.csv')\n",
    "\n",
    "# Chuyển đổi OrderDate sang datetime\n",
    "orders_df['OrderDate'] = pd.to_datetime(orders_df['OrderDate'])"
   ]
  },
  {
   "cell_type": "markdown",
   "metadata": {},
   "source": [
    "## 4.1. Cho biết những khách hàng ở USA"
   ]
  },
  {
   "cell_type": "code",
   "execution_count": null,
   "metadata": {},
   "outputs": [],
   "source": [
    "khach_hang_usa = customers_df[customers_df['Country'] == 'USA']\n",
    "print(khach_hang_usa)"
   ]
  },
  {
   "cell_type": "markdown",
   "metadata": {},
   "source": [
    "## 4.2. Cho biết tên, đơn giá, số lượng tồn kho của những sản phẩm tồn kho hơn 100 sản phẩm"
   ]
  },
  {
   "cell_type": "code",
   "execution_count": null,
   "metadata": {},
   "outputs": [],
   "source": [
    "san_pham_ton_kho_nhieu = products_df[products_df['UnitsInStock'] > 100][['ProductName', 'UnitPrice', 'UnitsInStock']]\n",
    "print(san_pham_ton_kho_nhieu)"
   ]
  },
  {
   "cell_type": "markdown",
   "metadata": {},
   "source": [
    "## 4.3. Cho biết những đơn hàng trong quý 2 năm 1997"
   ]
  },
  {
   "cell_type": "code",
   "execution_count": null,
   "metadata": {},
   "outputs": [],
   "source": [
    "don_hang_quy2_1997 = orders_df[(orders_df['OrderDate'].dt.year == 1997) & (orders_df['OrderDate'].dt.quarter == 2)]\n",
    "print(don_hang_quy2_1997)"
   ]
  },
  {
   "cell_type": "markdown",
   "metadata": {},
   "source": [
    "## 4.4. Cho biết tên khách hàng (công ty) của đơn hàng có mã 10252"
   ]
  },
  {
   "cell_type": "code",
   "execution_count": null,
   "metadata": {},
   "outputs": [],
   "source": [
    "don_hang_10252 = orders_df[orders_df['OrderID'] == 10252]\n",
    "customer_id_10252 = don_hang_10252['CustomerID'].iloc[0]\n",
    "ten_khach_hang = customers_df[customers_df['CustomerID'] == customer_id_10252]['CompanyName'].iloc[0]\n",
    "print(f'Tên khách hàng của đơn hàng 10252 là: {ten_khach_hang}')"
   ]
  },
  {
   "cell_type": "markdown",
   "metadata": {},
   "source": [
    "## 4.5. Đếm số mặt hàng trong từng đơn hàng"
   ]
  },
  {
   "cell_type": "code",
   "execution_count": null,
   "metadata": {},
   "outputs": [],
   "source": [
    "so_mat_hang_tung_don = order_details_df.groupby('OrderID')['ProductID'].count().reset_index(name='SoMatHang')\n",
    "print(so_mat_hang_tung_don)"
   ]
  },
  {
   "cell_type": "markdown",
   "metadata": {},
   "source": [
    "## 4.6. Tính số đơn hàng và tổng tiền của khách hàng có mã đơn hàng 10252"
   ]
  },
  {
   "cell_type": "code",
   "execution_count": null,
   "metadata": {},
   "outputs": [],
   "source": [
    "customer_id_for_order_10252 = orders_df[orders_df['OrderID'] == 10252]['CustomerID'].iloc[0]\n",
    "don_hang_cua_khach = orders_df[orders_df['CustomerID'] == customer_id_for_order_10252]\n",
    "so_don_hang = len(don_hang_cua_khach)\n",
    "chi_tiet_don_hang_cua_khach = pd.merge(don_hang_cua_khach, order_details_df, on='OrderID')\n",
    "chi_tiet_don_hang_cua_khach['ThanhTien'] = chi_tiet_don_hang_cua_khach['UnitPrice'] * chi_tiet_don_hang_cua_khach['Quantity'] * (1 - chi_tiet_don_hang_cua_khach['Discount'])\n",
    "tong_tien = chi_tiet_don_hang_cua_khach['ThanhTien'].sum()\n",
    "print(f'Khách hàng có mã đơn hàng 10252 là {customer_id_for_order_10252}')\n",
    "print(f'Số đơn hàng của khách hàng này: {so_don_hang}')\n",
    "print(f'Tổng tiền của khách hàng này: {tong_tien:.2f}')"
   ]
  },
  {
   "cell_type": "markdown",
   "metadata": {},
   "source": [
    "## 4.7. Cho biết số lượng đơn hàng và tổng tiền bán từng ngày trong tháng 1 năm 1997"
   ]
  },
  {
   "cell_type": "code",
   "execution_count": null,
   "metadata": {},
   "outputs": [],
   "source": [
    "don_hang_t1_1997 = orders_df[(orders_df['OrderDate'].dt.year == 1997) & (orders_df['OrderDate'].dt.month == 1)]\n",
    "chi_tiet_t1_1997 = pd.merge(don_hang_t1_1997, order_details_df, on='OrderID')\n",
    "chi_tiet_t1_1997['ThanhTien'] = chi_tiet_t1_1997['UnitPrice'] * chi_tiet_t1_1997['Quantity'] * (1 - chi_tiet_t1_1997['Discount'])\n",
    "ket_qua_t1_1997 = chi_tiet_t1_1997.groupby(chi_tiet_t1_1997['OrderDate'].dt.date).agg(SoLuongDonHang=('OrderID', 'nunique'), TongTienBan=('ThanhTien', 'sum')).reset_index()\n",
    "print(ket_qua_t1_1997)"
   ]
  },
  {
   "cell_type": "markdown",
   "metadata": {},
   "source": [
    "## 4.8. Tính số lượng, tổng tiền, đơn giá bán bình quân của từng mặt hàng"
   ]
  },
  {
   "cell_type": "code",
   "execution_count": null,
   "metadata": {},
   "outputs": [],
   "source": [
    "order_details_df['ThanhTien'] = order_details_df['UnitPrice'] * order_details_df['Quantity'] * (1 - order_details_df['Discount'])\n",
    "thong_ke_mat_hang = order_details_df.groupby('ProductID').agg(TongSoLuong=('Quantity', 'sum'), TongTien=('ThanhTien', 'sum')).reset_index()\n",
    "thong_ke_mat_hang['DonGiaBinhQuan'] = thong_ke_mat_hang['TongTien'] / thong_ke_mat_hang['TongSoLuong']\n",
    "thong_ke_mat_hang = pd.merge(thong_ke_mat_hang, products_df[['ProductID', 'ProductName']], on='ProductID')\n",
    "print(thong_ke_mat_hang[['ProductName', 'TongSoLuong', 'TongTien', 'DonGiaBinhQuan']])"
   ]
  },
  {
   "cell_type": "markdown",
   "metadata": {},
   "source": [
    "## 4.9. Cho biết tên những mặt hàng chưa bán được"
   ]
  },
  {
   "cell_type": "code",
   "execution_count": null,
   "metadata": {},
   "outputs": [],
   "source": [
    "mat_hang_da_ban = order_details_df['ProductID'].unique()\n",
    "mat_hang_chua_ban = products_df[~products_df['ProductID'].isin(mat_hang_da_ban)]\n",
    "print(mat_hang_chua_ban[['ProductName']])"
   ]
  },
  {
   "cell_type": "markdown",
   "metadata": {},
   "source": [
    "## 4.10. Cho biết tên những mặt hàng bán nhiều nhất theo số lượng"
   ]
  },
  {
   "cell_type": "code",
   "execution_count": null,
   "metadata": {},
   "outputs": [],
   "source": [
    "so_luong_ban_tung_mat_hang = order_details_df.groupby('ProductID')['Quantity'].sum().reset_index()\n",
    "max_quantity = so_luong_ban_tung_mat_hang['Quantity'].max()\n",
    "mat_hang_ban_nhieu_nhat_id = so_luong_ban_tung_mat_hang[so_luong_ban_tung_mat_hang['Quantity'] == max_quantity]\n",
    "mat_hang_ban_nhieu_nhat = pd.merge(mat_hang_ban_nhieu_nhat_id, products_df, on='ProductID')\n",
    "print(mat_hang_ban_nhieu_nhat[['ProductName', 'Quantity']])"
   ]
  },
  {
   "cell_type": "markdown",
   "metadata": {},
   "source": [
    "## 4.11. Vẽ biểu đồ cột biểu diễn thành tiền bán của 10 mặt hàng bán nhiều nhất trong năm 1997"
   ]
  },
  {
   "cell_type": "code",
   "execution_count": null,
   "metadata": {},
   "outputs": [],
   "source": [
    "don_hang_1997 = orders_df[orders_df['OrderDate'].dt.year == 1997]\n",
    "chi_tiet_1997 = pd.merge(don_hang_1997, order_details_df, on='OrderID')\n",
    "chi_tiet_1997['ThanhTien'] = chi_tiet_1997['UnitPrice'] * chi_tiet_1997['Quantity'] * (1 - chi_tiet_1997['Discount'])\n",
    "top_10_ban_nhieu_nhat = chi_tiet_1997.groupby('ProductID')['ThanhTien'].sum().nlargest(10).reset_index()\n",
    "top_10_ban_nhieu_nhat_ten = pd.merge(top_10_ban_nhieu_nhat, products_df, on='ProductID')\n",
    "\n",
    "plt.figure(figsize=(12, 6))\n",
    "plt.bar(top_10_ban_nhieu_nhat_ten['ProductName'], top_10_ban_nhieu_nhat_ten['ThanhTien'])\n",
    "plt.xlabel('Tên mặt hàng')\n",
    "plt.ylabel('Thành tiền bán')\n",
    "plt.title('Top 10 mặt hàng bán nhiều nhất năm 1997')\n",
    "plt.xticks(rotation=45, ha='right')\n",
    "plt.tight_layout()\n",
    "plt.show()"
   ]
  },
  {
   "cell_type": "markdown",
   "metadata": {},
   "source": [
    "## 4.12. Vẽ biểu đồ cột so sánh số tiền bán được theo tháng của từng năm"
   ]
  },
  {
   "cell_type": "code",
   "execution_count": null,
   "metadata": {},
   "outputs": [],
   "source": [
    "full_details_df = pd.merge(orders_df, order_details_df, on='OrderID')\n",
    "full_details_df['ThanhTien'] = full_details_df['UnitPrice'] * full_details_df['Quantity'] * (1 - full_details_df['Discount'])\n",
    "full_details_df['Year'] = full_details_df['OrderDate'].dt.year\n",
    "full_details_df['Month'] = full_details_df['OrderDate'].dt.month\n",
    "\n",
    "doanh_thu_thang_nam = full_details_df.groupby(['Year', 'Month'])['ThanhTien'].sum().unstack(level=0)\n",
    "\n",
    "doanh_thu_thang_nam.plot(kind='bar', figsize=(14, 7), width=0.8)\n",
    "plt.xlabel('Tháng')\n",
    "plt.ylabel('Số tiền bán được')\n",
    "plt.title('So sánh số tiền bán được theo tháng của từng năm')\n",
    "plt.xticks(rotation=0)\n",
    "plt.legend(title='Năm')\n",
    "plt.tight_layout()\n",
    "plt.show()"
   ]
  },
  {
   "cell_type": "markdown",
   "metadata": {},
   "source": [
    "## 4.13. Vẽ biểu đồ đường biểu diễn số lượng bán được từng tháng/năm của mặt hàng có nhiều đơn hàng nhất"
   ]
  },
  {
   "cell_type": "code",
   "execution_count": null,
   "metadata": {},
   "outputs": [],
   "source": [
    "so_don_hang_tung_mat = order_details_df.groupby('ProductID')['OrderID'].nunique().reset_index()\n",
    "max_orders_product_id = so_don_hang_tung_mat.loc[so_don_hang_tung_mat['OrderID'].idxmax()]['ProductID']\n",
    "ten_mat_hang_nhieu_don = products_df[products_df['ProductID'] == max_orders_product_id]['ProductName'].iloc[0]\n",
    "\n",
    "chi_tiet_mat_hang_nhieu_don = full_details_df[full_details_df['ProductID'] == max_orders_product_id]\n",
    "so_luong_ban_thang_nam = chi_tiet_mat_hang_nhieu_don.groupby(['Year', 'Month'])['Quantity'].sum().reset_index()\n",
    "so_luong_ban_thang_nam['ThangNam'] = so_luong_ban_thang_nam.apply(lambda row: f'{int(row.Month)}-{int(row.Year)}', axis=1)\n",
    "\n",
    "plt.figure(figsize=(14, 7))\n",
    "plt.plot(so_luong_ban_thang_nam['ThangNam'], so_luong_ban_thang_nam['Quantity'], marker='o')\n",
    "plt.xlabel('Tháng/Năm')\n",
    "plt.ylabel('Số lượng bán được')\n",
    "plt.title(f'Số lượng bán được của mặt hàng \"{ten_mat_hang_nhieu_don}\" theo thời gian')\n",
    "plt.xticks(rotation=45, ha='right')\n",
    "plt.grid(True)\n",
    "plt.tight_layout()\n",
    "plt.show()"
   ]
  },
  {
   "cell_type": "markdown",
   "metadata": {},
   "source": [
    "## 4.14. Cho biết những cặp khách hàng mua giống nhau từ 5 mặt hàng trở lên, đó là những mặt hàng nào?"
   ]
  },
  {
   "cell_type": "code",
   "execution_count": null,
   "metadata": {},
   "outputs": [],
   "source": [
    "customer_products = full_details_df.groupby('CustomerID')['ProductID'].apply(set)\n",
    "customer_pairs = list(combinations(customer_products.index, 2))\n",
    "\n",
    "for c1, c2 in customer_pairs:\n",
    "    common_products = customer_products[c1].intersection(customer_products[c2])\n",
    "    if len(common_products) >= 5:\n",
    "        company_c1 = customers_df[customers_df['CustomerID'] == c1]['CompanyName'].iloc[0]\n",
    "        company_c2 = customers_df[customers_df['CustomerID'] == c2]['CompanyName'].iloc[0]\n",
    "        product_names = products_df[products_df['ProductID'].isin(common_products)]['ProductName'].tolist()\n",
    "        \n",
    "        print(f'Cặp khách hàng: {company_c1} và {company_c2}')\n",
    "        print(f'Số mặt hàng chung: {len(common_products)}')\n",
    "        print(f'Các mặt hàng chung: {\", \".join(product_names)}')\n",
    "        print('-' * 40)"
   ]
  },
  {
   "cell_type": "markdown",
   "metadata": {},
   "source": [
    "## 4.15. Cho biết trong những cặp khách hàng (c1, c2) mua giống nhau hơn 5 mặt hàng thì những mặt hàng nào khách hàng c1 mua mà khách hàng c2 chưa mua."
   ]
  },
  {
   "cell_type": "code",
   "execution_count": null,
   "metadata": {},
   "outputs": [],
   "source": [
    "for c1, c2 in customer_pairs:\n",
    "    common_products = customer_products[c1].intersection(customer_products[c2])\n",
    "    if len(common_products) > 5:\n",
    "        c1_only_products = customer_products[c1].difference(customer_products[c2])\n",
    "        c2_only_products = customer_products[c2].difference(customer_products[c1])\n",
    "        \n",
    "        company_c1 = customers_df[customers_df['CustomerID'] == c1]['CompanyName'].iloc[0]\n",
    "        company_c2 = customers_df[customers_df['CustomerID'] == c2]['CompanyName'].iloc[0]\n",
    "        \n",
    "        if c1_only_products:\n",
    "            product_names_c1_only = products_df[products_df['ProductID'].isin(c1_only_products)]['ProductName'].tolist()\n",
    "            print(f'Trong cặp ({company_c1}, {company_c2}):')\n",
    "            print(f'  {company_c1} mua những mặt hàng sau mà {company_c2} không mua:')\n",
    "            print(f'    { \", \".join(product_names_c1_only) }')\n",
    "        \n",
    "        if c2_only_products:\n",
    "            product_names_c2_only = products_df[products_df['ProductID'].isin(c2_only_products)]['ProductName'].tolist()\n",
    "            print(f'Trong cặp ({company_c1}, {company_c2}):')\n",
    "            print(f'  {company_c2} mua những mặt hàng sau mà {company_c1} không mua:')\n",
    "            print(f'    { \", \".join(product_names_c2_only) }')\n",
    "        \n",
    "        if c1_only_products or c2_only_products:\n",
    "             print('-' * 40)"
   ]
  }
 ],
 "metadata": {
  "kernelspec": {
   "display_name": "Python 3",
   "language": "python",
   "name": "python3"
  },
  "language_info": {
   "codemirror_mode": {
    "name": "ipython",
    "version": 3
   },
   "file_extension": ".py",
   "mimetype": "text/x-python",
   "name": "python",
   "nbconvert_exporter": "python",
   "pygments_lexer": "ipython3",
   "version": "3.10.9"
  }
 },
 "nbformat": 4,
 "nbformat_minor": 4
}
